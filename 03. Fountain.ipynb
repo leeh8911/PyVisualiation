{
 "cells": [
  {
   "cell_type": "markdown",
   "id": "fbac482f",
   "metadata": {
    "ExecuteTime": {
     "end_time": "2022-01-21T23:00:49.522603Z",
     "start_time": "2022-01-21T23:00:47.349726Z"
    }
   },
   "source": [
    "# Matplotlib animation을 이용한 분수 애니메이션"
   ]
  },
  {
   "cell_type": "code",
   "execution_count": 2,
   "id": "16253230",
   "metadata": {
    "ExecuteTime": {
     "end_time": "2022-01-21T23:02:45.171997Z",
     "start_time": "2022-01-21T23:02:44.367312Z"
    }
   },
   "outputs": [],
   "source": [
    "%matplotlib notebook\n",
    "%matplotlib notebook"
   ]
  },
  {
   "cell_type": "code",
   "execution_count": 4,
   "id": "236e71f0",
   "metadata": {
    "ExecuteTime": {
     "end_time": "2022-01-21T23:03:37.691347Z",
     "start_time": "2022-01-21T23:03:37.682349Z"
    }
   },
   "outputs": [],
   "source": [
    "import matplotlib.pyplot as plt\n",
    "from matplotlib.animation import FuncAnimation\n",
    "\n",
    "import numpy as np"
   ]
  },
  {
   "cell_type": "code",
   "execution_count": null,
   "id": "31761096",
   "metadata": {},
   "outputs": [],
   "source": [
    "# Physical Parameters\n",
    "gravity_acceleration = 9.81\n",
    "step_time = 0.1"
   ]
  },
  {
   "cell_type": "code",
   "execution_count": null,
   "id": "f8cc27ef",
   "metadata": {},
   "outputs": [],
   "source": [
    "class WaterDrop:\n",
    "    def __init__(self, pos, vel=None, size=1):\n",
    "        self.size = size\n",
    "        self.pos = pos\n",
    "        if vel is None:\n",
    "            self.vel = np.zeros(2,1)\n",
    "        else:\n",
    "            self.vel = vel\n",
    "            \n",
    "    def "
   ]
  },
  {
   "cell_type": "code",
   "execution_count": null,
   "id": "4b00b2ec",
   "metadata": {},
   "outputs": [],
   "source": []
  }
 ],
 "metadata": {
  "hide_input": false,
  "kernelspec": {
   "display_name": "Python 3",
   "language": "python",
   "name": "python3"
  },
  "language_info": {
   "codemirror_mode": {
    "name": "ipython",
    "version": 3
   },
   "file_extension": ".py",
   "mimetype": "text/x-python",
   "name": "python",
   "nbconvert_exporter": "python",
   "pygments_lexer": "ipython3",
   "version": "3.8.5"
  },
  "latex_envs": {
   "LaTeX_envs_menu_present": true,
   "autoclose": false,
   "autocomplete": true,
   "bibliofile": "biblio.bib",
   "cite_by": "apalike",
   "current_citInitial": 1,
   "eqLabelWithNumbers": true,
   "eqNumInitial": 1,
   "hotkeys": {
    "equation": "Ctrl-E",
    "itemize": "Ctrl-I"
   },
   "labels_anchors": false,
   "latex_user_defs": false,
   "report_style_numbering": false,
   "user_envs_cfg": false
  },
  "toc": {
   "base_numbering": 1,
   "nav_menu": {},
   "number_sections": true,
   "sideBar": true,
   "skip_h1_title": false,
   "title_cell": "Table of Contents",
   "title_sidebar": "Contents",
   "toc_cell": false,
   "toc_position": {},
   "toc_section_display": true,
   "toc_window_display": false
  },
  "varInspector": {
   "cols": {
    "lenName": 16,
    "lenType": 16,
    "lenVar": 40
   },
   "kernels_config": {
    "python": {
     "delete_cmd_postfix": "",
     "delete_cmd_prefix": "del ",
     "library": "var_list.py",
     "varRefreshCmd": "print(var_dic_list())"
    },
    "r": {
     "delete_cmd_postfix": ") ",
     "delete_cmd_prefix": "rm(",
     "library": "var_list.r",
     "varRefreshCmd": "cat(var_dic_list()) "
    }
   },
   "types_to_exclude": [
    "module",
    "function",
    "builtin_function_or_method",
    "instance",
    "_Feature"
   ],
   "window_display": false
  }
 },
 "nbformat": 4,
 "nbformat_minor": 5
}
