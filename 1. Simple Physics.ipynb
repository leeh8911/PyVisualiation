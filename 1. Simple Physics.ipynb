{
 "cells": [
  {
   "cell_type": "markdown",
   "id": "cbb552cf",
   "metadata": {},
   "source": [
    "# Newton' Law!"
   ]
  },
  {
   "cell_type": "code",
   "execution_count": 1,
   "id": "4286ef88",
   "metadata": {
    "ExecuteTime": {
     "end_time": "2022-01-16T21:14:11.732052Z",
     "start_time": "2022-01-16T21:14:10.507223Z"
    }
   },
   "outputs": [],
   "source": [
    "import numpy as np\n",
    "import matplotlib.pyplot as plt\n",
    "from matplotlib.animation import FuncAnimation\n",
    "import seaborn as sns"
   ]
  },
  {
   "cell_type": "code",
   "execution_count": 2,
   "id": "9c0108b0",
   "metadata": {
    "ExecuteTime": {
     "end_time": "2022-01-16T21:14:11.747051Z",
     "start_time": "2022-01-16T21:14:11.733055Z"
    }
   },
   "outputs": [],
   "source": [
    "g = 9.81\n",
    "dt = 1/30\n",
    "theta = np.arange(0, 2*np.pi, 0.01)"
   ]
  },
  {
   "cell_type": "code",
   "execution_count": 3,
   "id": "bd2c1885",
   "metadata": {
    "ExecuteTime": {
     "end_time": "2022-01-16T21:14:11.762051Z",
     "start_time": "2022-01-16T21:14:11.748056Z"
    }
   },
   "outputs": [],
   "source": [
    "class Ball:\n",
    "    def __init__(self, x=0, y=0, radius=1):\n",
    "        self.x = x\n",
    "        self.y = y\n",
    "        self.vx = 0\n",
    "        self.vy = 0\n",
    "        self.radius = radius\n",
    "        \n",
    "    \n",
    "    def update(self):\n",
    "        self.vx = self.vx\n",
    "        self.vy = self.vy - g * dt\n",
    "        \n",
    "        self.x = self.x + self.vx * dt\n",
    "        self.y = self.y + self.vy * dt"
   ]
  },
  {
   "cell_type": "code",
   "execution_count": 4,
   "id": "b5f377aa",
   "metadata": {
    "ExecuteTime": {
     "end_time": "2022-01-16T21:14:11.882051Z",
     "start_time": "2022-01-16T21:14:11.763052Z"
    }
   },
   "outputs": [
    {
     "data": {
      "image/png": "[encoded data removed]",
      "text/plain": [
       "<Figure size 1000x1000 with 1 Axes>"
      ]
     },
     "metadata": {},
     "output_type": "display_data"
    }
   ],
   "source": [
    "ball = Ball(x=10, y=20, radius=10)\n",
    "\n",
    "fig, ax = plt.subplots(figsize=(10,10))\n",
    "ax.set_xlim(0,60)\n",
    "ax.set_ylim(0,60)\n",
    "circle = plt.Circle((ball.x, ball.y), ball.radius)\n",
    "\n",
    "ax.add_artist(circle)\n",
    "ax.set_aspect('equal', adjustable='box')\n",
    "plt.title('Circle')\n",
    "plt.show()"
   ]
  },
  {
   "cell_type": "code",
   "execution_count": 5,
   "id": "6ce53eaa",
   "metadata": {
    "ExecuteTime": {
     "end_time": "2022-01-16T21:14:24.137059Z",
     "start_time": "2022-01-16T21:14:11.883052Z"
    },
    "scrolled": true
   },
   "outputs": [
    {
     "name": "stderr",
     "output_type": "stream",
     "text": [
      "MovieWriter imagemagick unavailable; using Pillow instead.\n"
     ]
    }
   ],
   "source": [
    "ball = Ball(x=10, y=50, radius=10)\n",
    "\n",
    "fig, ax = plt.subplots()\n",
    "ax.set_xlim(0, 60)\n",
    "ax.set_ylim(0, 60)\n",
    "ax.set_aspect('equal', adjustable='box')\n",
    "\n",
    "def update(frame):\n",
    "    ax.clear()\n",
    "    ball.update()\n",
    "    circle = plt.Circle((ball.x, ball.y), ball.radius)\n",
    "    \n",
    "    ax.add_artist(circle)\n",
    "    \n",
    "ani = FuncAnimation(fig, update, frames=np.arange(0,10, dt))\n",
    "ani.save('saved.gif', writer='imagemagick')"
   ]
  },
  {
   "cell_type": "code",
   "execution_count": 6,
   "id": "2bc864b4",
   "metadata": {
    "ExecuteTime": {
     "end_time": "2022-01-16T21:14:24.167053Z",
     "start_time": "2022-01-16T21:14:24.138050Z"
    }
   },
   "outputs": [
    {
     "data": {
      "text/plain": [
       "<bound method _AxesBase.clear of <AxesSubplot:>>"
      ]
     },
     "execution_count": 6,
     "metadata": {},
     "output_type": "execute_result"
    }
   ],
   "source": [
    "ax.clear"
   ]
  }
 ],
 "metadata": {
  "hide_input": false,
  "kernelspec": {
   "display_name": "Python 3",
   "language": "python",
   "name": "python3"
  },
  "language_info": {
   "codemirror_mode": {
    "name": "ipython",
    "version": 3
   },
   "file_extension": ".py",
   "mimetype": "text/x-python",
   "name": "python",
   "nbconvert_exporter": "python",
   "pygments_lexer": "ipython3",
   "version": "3.8.5"
  },
  "latex_envs": {
   "LaTeX_envs_menu_present": true,
   "autoclose": false,
   "autocomplete": true,
   "bibliofile": "biblio.bib",
   "cite_by": "apalike",
   "current_citInitial": 1,
   "eqLabelWithNumbers": true,
   "eqNumInitial": 1,
   "hotkeys": {
    "equation": "Ctrl-E",
    "itemize": "Ctrl-I"
   },
   "labels_anchors": false,
   "latex_user_defs": false,
   "report_style_numbering": false,
   "user_envs_cfg": false
  },
  "toc": {
   "base_numbering": 1,
   "nav_menu": {},
   "number_sections": true,
   "sideBar": true,
   "skip_h1_title": false,
   "title_cell": "Table of Contents",
   "title_sidebar": "Contents",
   "toc_cell": false,
   "toc_position": {},
   "toc_section_display": true,
   "toc_window_display": false
  },
  "varInspector": {
   "cols": {
    "lenName": 16,
    "lenType": 16,
    "lenVar": 40
   },
   "kernels_config": {
    "python": {
     "delete_cmd_postfix": "",
     "delete_cmd_prefix": "del ",
     "library": "var_list.py",
     "varRefreshCmd": "print(var_dic_list())"
    },
    "r": {
     "delete_cmd_postfix": ") ",
     "delete_cmd_prefix": "rm(",
     "library": "var_list.r",
     "varRefreshCmd": "cat(var_dic_list()) "
    }
   },
   "types_to_exclude": [
    "module",
    "function",
    "builtin_function_or_method",
    "instance",
    "_Feature"
   ],
   "window_display": false
  }
 },
 "nbformat": 4,
 "nbformat_minor": 5
}
